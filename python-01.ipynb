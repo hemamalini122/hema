{
 "cells": [
  {
   "cell_type": "markdown",
   "metadata": {},
   "source": [
    "### The questions for the exercises are given above the cells and the expected output is given below the cell. Please type the code inserting a new cell below the question because if you run the expected output cell the output would vanish! Happy learning! "
   ]
  },
  {
   "cell_type": "markdown",
   "metadata": {},
   "source": [
    "## Exercise Question 1: Given an input list removes the element at index 4 and add it to the 2nd position and also, at the end of the list\n",
    "\n",
    "For example: List = [54, 44, 27, 79, 91, 41]"
   ]
  },
  {
   "cell_type": "code",
   "execution_count": 7,
   "metadata": {},
   "outputs": [
    {
     "name": "stdout",
     "output_type": "stream",
     "text": [
      "Original List:  [34, 54, 67, 89, 11, 43, 94]\n",
      "List After removing element at index 4:  [34, 54, 67, 89, 43, 94]\n",
      "List Adding element at index 2:  [34, 54, 11, 67, 89, 43, 94]\n",
      "List after Adding element at last:  [34, 54, 11, 67, 89, 43, 94, 11]\n"
     ]
    }
   ],
   "source": [
    "firstList = [34, 54, 67, 89, 11, 43, 94]\n",
    "print(\"Original List: \", firstList)\n",
    "element4 = firstList.pop(4) \n",
    "print(\"List After removing element at index 4: \", firstList)\n",
    "firstList.insert(2,element4)\n",
    "print(\"List Adding element at index 2: \", firstList)\n",
    "firstList.append(element4)\n",
    "print(\"List after Adding element at last: \", firstList)\n",
    "   "
   ]
  },
  {
   "cell_type": "markdown",
   "metadata": {},
   "source": [
    "## Exercise Question 2: Given a two list of equal size create a list of unique elements from both the lists into a seperate list"
   ]
  },
  {
   "cell_type": "code",
   "execution_count": 8,
   "metadata": {
    "scrolled": true
   },
   "outputs": [
    {
     "name": "stdout",
     "output_type": "stream",
     "text": [
      "[64, 2, 3, 4, 5, 6, 7, 8, 9, 36, 16, 49, 25]\n"
     ]
    }
   ],
   "source": [
    "firstlist = [2, 3, 4, 5, 6, 7, 8]\n",
    "SecondList = [4, 9, 16, 25, 36, 49, 64]\n",
    "firstlist.extend(SecondList)\n",
    "uniquelement = set(firstlist)\n",
    "print(list(uniquelement))"
   ]
  },
  {
   "cell_type": "markdown",
   "metadata": {},
   "source": [
    "## Exercise Question 3: Remove duplicate from a list and create a tuple and find the minimum and maximum number (Hint: Try Functions Min() and Max() ) "
   ]
  },
  {
   "cell_type": "code",
   "execution_count": 9,
   "metadata": {},
   "outputs": [
    {
     "name": "stdout",
     "output_type": "stream",
     "text": [
      "Original list: [87, 52, 44, 53, 54, 87, 52, 53]\n",
      "Unique list: [44, 52, 53, 54, 87]\n",
      "Tuple: (44, 52, 53, 54, 87)\n",
      "Minimum number is: 44\n",
      "Maximum number is: 87\n"
     ]
    }
   ],
   "source": [
    "firstlist = [87, 52, 44, 53, 54, 87, 52, 53]\n",
    "print(\"Original list:\", firstlist)\n",
    "print(\"Unique list:\", list(set(firstlist)))\n",
    "print(\"Tuple:\", tuple(set(firstlist)))\n",
    "print(\"Minimum number is:\",min(list(set(firstlist))))\n",
    "print(\"Maximum number is:\",max(list(set(firstlist))))"
   ]
  },
  {
   "cell_type": "markdown",
   "metadata": {},
   "source": [
    "## Exercise Question 4: Display the each word in the string Count the number of words in a string and display it (Including the white spaces) "
   ]
  },
  {
   "cell_type": "code",
   "execution_count": 19,
   "metadata": {},
   "outputs": [
    {
     "name": "stdout",
     "output_type": "stream",
     "text": [
      "w h a t ' s   u p ?\n"
     ]
    }
   ],
   "source": [
    "#Printing each words seperately \n",
    "a = \"what's up?\"\n",
    "print(*a)"
   ]
  },
  {
   "cell_type": "code",
   "execution_count": 10,
   "metadata": {},
   "outputs": [
    {
     "name": "stdout",
     "output_type": "stream",
     "text": [
      "The sample string: Welcome to Python\n",
      "Printing each words seperately: W e l c o m e   t o   P y t h o n\n",
      "The Length of the string: 17\n"
     ]
    }
   ],
   "source": [
    "samp_string = \"Welcome to Python\"\n",
    "print(\"The sample string:\",samp_string)\n",
    "print(\"Printing each words seperately:\",*samp_string)\n",
    "print(\"The Length of the string:\", len(samp_string))"
   ]
  },
  {
   "cell_type": "markdown",
   "metadata": {},
   "source": [
    "##  Exercise Question 5: Write a Python program to access dictionary keys element by index. i.e. Use indexing methods to print the first key"
   ]
  },
  {
   "cell_type": "code",
   "execution_count": 12,
   "metadata": {},
   "outputs": [
    {
     "name": "stdout",
     "output_type": "stream",
     "text": [
      "The dictionary is: {'physics': 80, 'math': 90, 'chemistry': 86}\n",
      "The key element accesed by index 0: physics\n"
     ]
    }
   ],
   "source": [
    "samp_dict = {'physics': 80, 'math': 90, 'chemistry': 86}\n",
    "print(\"The dictionary is:\", samp_dict)\n",
    "sublist = list(samp_dict.keys())\n",
    "print(\"The key element accesed by index 0:\", sublist[0])"
   ]
  },
  {
   "cell_type": "code",
   "execution_count": null,
   "metadata": {},
   "outputs": [],
   "source": []
  }
 ],
 "metadata": {
  "kernelspec": {
   "display_name": "Python 3",
   "language": "python",
   "name": "python3"
  },
  "language_info": {
   "codemirror_mode": {
    "name": "ipython",
    "version": 3
   },
   "file_extension": ".py",
   "mimetype": "text/x-python",
   "name": "python",
   "nbconvert_exporter": "python",
   "pygments_lexer": "ipython3",
   "version": "3.7.6"
  }
 },
 "nbformat": 4,
 "nbformat_minor": 4
}
