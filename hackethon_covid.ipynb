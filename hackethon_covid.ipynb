{
 "cells": [
  {
   "cell_type": "code",
   "execution_count": 1,
   "metadata": {},
   "outputs": [],
   "source": [
    "import pandas as pd\n",
    "import numpy as np\n",
    "%matplotlib inline\n",
    "\n",
    "import matplotlib.pyplot as plt\n",
    "\n",
    "import seaborn as sns"
   ]
  },
  {
   "cell_type": "code",
   "execution_count": 5,
   "metadata": {},
   "outputs": [
    {
     "name": "stderr",
     "output_type": "stream",
     "text": [
      "C:\\Users\\Admin1\\anaconda3\\lib\\site-packages\\IPython\\core\\interactiveshell.py:3063: DtypeWarning: Columns (8) have mixed types.Specify dtype option on import or set low_memory=False.\n",
      "  interactivity=interactivity, compiler=compiler, result=result)\n"
     ]
    }
   ],
   "source": [
    "df=pd.read_csv(r\"C:\\Users\\Admin1\\Downloads\\COVID-19 Cases.csv\")"
   ]
  },
  {
   "cell_type": "code",
   "execution_count": 6,
   "metadata": {},
   "outputs": [
    {
     "data": {
      "text/html": [
       "<div>\n",
       "<style scoped>\n",
       "    .dataframe tbody tr th:only-of-type {\n",
       "        vertical-align: middle;\n",
       "    }\n",
       "\n",
       "    .dataframe tbody tr th {\n",
       "        vertical-align: top;\n",
       "    }\n",
       "\n",
       "    .dataframe thead th {\n",
       "        text-align: right;\n",
       "    }\n",
       "</style>\n",
       "<table border=\"1\" class=\"dataframe\">\n",
       "  <thead>\n",
       "    <tr style=\"text-align: right;\">\n",
       "      <th></th>\n",
       "      <th>Case_Type</th>\n",
       "      <th>People_Total_Tested_Count</th>\n",
       "      <th>Cases</th>\n",
       "      <th>Difference</th>\n",
       "      <th>Date</th>\n",
       "      <th>Combined_Key</th>\n",
       "      <th>Country_Region</th>\n",
       "      <th>Province_State</th>\n",
       "      <th>Admin2</th>\n",
       "      <th>iso2</th>\n",
       "      <th>iso3</th>\n",
       "      <th>FIPS</th>\n",
       "      <th>Lat</th>\n",
       "      <th>Long</th>\n",
       "      <th>Population_Count</th>\n",
       "      <th>People_Hospitalized_Cumulative_Count</th>\n",
       "      <th>Data_Source</th>\n",
       "      <th>Prep_Flow_Runtime</th>\n",
       "    </tr>\n",
       "  </thead>\n",
       "  <tbody>\n",
       "    <tr>\n",
       "      <th>0</th>\n",
       "      <td>Confirmed</td>\n",
       "      <td>NaN</td>\n",
       "      <td>0</td>\n",
       "      <td>0</td>\n",
       "      <td>2/3/2020</td>\n",
       "      <td>Switzerland</td>\n",
       "      <td>Switzerland</td>\n",
       "      <td>NaN</td>\n",
       "      <td>NaN</td>\n",
       "      <td>CH</td>\n",
       "      <td>CHE</td>\n",
       "      <td>NaN</td>\n",
       "      <td>46.8182</td>\n",
       "      <td>8.2275</td>\n",
       "      <td>8654618.0</td>\n",
       "      <td>NaN</td>\n",
       "      <td>2019 Novel Coronavirus COVID-19 (2019-nCoV) Da...</td>\n",
       "      <td>5/2/2020 11:35:41 PM</td>\n",
       "    </tr>\n",
       "    <tr>\n",
       "      <th>1</th>\n",
       "      <td>Deaths</td>\n",
       "      <td>NaN</td>\n",
       "      <td>0</td>\n",
       "      <td>0</td>\n",
       "      <td>3/1/2020</td>\n",
       "      <td>Cyprus</td>\n",
       "      <td>Cyprus</td>\n",
       "      <td>NaN</td>\n",
       "      <td>NaN</td>\n",
       "      <td>CY</td>\n",
       "      <td>CYP</td>\n",
       "      <td>NaN</td>\n",
       "      <td>35.1264</td>\n",
       "      <td>33.4299</td>\n",
       "      <td>1207361.0</td>\n",
       "      <td>NaN</td>\n",
       "      <td>2019 Novel Coronavirus COVID-19 (2019-nCoV) Da...</td>\n",
       "      <td>5/2/2020 11:35:41 PM</td>\n",
       "    </tr>\n",
       "    <tr>\n",
       "      <th>2</th>\n",
       "      <td>Confirmed</td>\n",
       "      <td>NaN</td>\n",
       "      <td>23</td>\n",
       "      <td>0</td>\n",
       "      <td>4/21/2020</td>\n",
       "      <td>Antigua and Barbuda</td>\n",
       "      <td>Antigua and Barbuda</td>\n",
       "      <td>NaN</td>\n",
       "      <td>NaN</td>\n",
       "      <td>AG</td>\n",
       "      <td>ATG</td>\n",
       "      <td>NaN</td>\n",
       "      <td>17.0608</td>\n",
       "      <td>-61.7964</td>\n",
       "      <td>97928.0</td>\n",
       "      <td>NaN</td>\n",
       "      <td>2019 Novel Coronavirus COVID-19 (2019-nCoV) Da...</td>\n",
       "      <td>5/2/2020 11:35:41 PM</td>\n",
       "    </tr>\n",
       "    <tr>\n",
       "      <th>3</th>\n",
       "      <td>Deaths</td>\n",
       "      <td>NaN</td>\n",
       "      <td>0</td>\n",
       "      <td>0</td>\n",
       "      <td>2/11/2020</td>\n",
       "      <td>Jamaica</td>\n",
       "      <td>Jamaica</td>\n",
       "      <td>NaN</td>\n",
       "      <td>NaN</td>\n",
       "      <td>JM</td>\n",
       "      <td>JAM</td>\n",
       "      <td>NaN</td>\n",
       "      <td>18.1096</td>\n",
       "      <td>-77.2975</td>\n",
       "      <td>2961161.0</td>\n",
       "      <td>NaN</td>\n",
       "      <td>2019 Novel Coronavirus COVID-19 (2019-nCoV) Da...</td>\n",
       "      <td>5/2/2020 11:35:41 PM</td>\n",
       "    </tr>\n",
       "    <tr>\n",
       "      <th>4</th>\n",
       "      <td>Confirmed</td>\n",
       "      <td>NaN</td>\n",
       "      <td>0</td>\n",
       "      <td>0</td>\n",
       "      <td>2/6/2020</td>\n",
       "      <td>Belize</td>\n",
       "      <td>Belize</td>\n",
       "      <td>NaN</td>\n",
       "      <td>NaN</td>\n",
       "      <td>BZ</td>\n",
       "      <td>BLZ</td>\n",
       "      <td>NaN</td>\n",
       "      <td>17.1899</td>\n",
       "      <td>-88.4976</td>\n",
       "      <td>397621.0</td>\n",
       "      <td>NaN</td>\n",
       "      <td>2019 Novel Coronavirus COVID-19 (2019-nCoV) Da...</td>\n",
       "      <td>5/2/2020 11:35:41 PM</td>\n",
       "    </tr>\n",
       "  </tbody>\n",
       "</table>\n",
       "</div>"
      ],
      "text/plain": [
       "   Case_Type  People_Total_Tested_Count  Cases  Difference       Date  \\\n",
       "0  Confirmed                        NaN      0           0   2/3/2020   \n",
       "1     Deaths                        NaN      0           0   3/1/2020   \n",
       "2  Confirmed                        NaN     23           0  4/21/2020   \n",
       "3     Deaths                        NaN      0           0  2/11/2020   \n",
       "4  Confirmed                        NaN      0           0   2/6/2020   \n",
       "\n",
       "          Combined_Key       Country_Region Province_State Admin2 iso2 iso3  \\\n",
       "0          Switzerland          Switzerland            NaN    NaN   CH  CHE   \n",
       "1               Cyprus               Cyprus            NaN    NaN   CY  CYP   \n",
       "2  Antigua and Barbuda  Antigua and Barbuda            NaN    NaN   AG  ATG   \n",
       "3              Jamaica              Jamaica            NaN    NaN   JM  JAM   \n",
       "4               Belize               Belize            NaN    NaN   BZ  BLZ   \n",
       "\n",
       "   FIPS      Lat     Long  Population_Count  \\\n",
       "0   NaN  46.8182   8.2275         8654618.0   \n",
       "1   NaN  35.1264  33.4299         1207361.0   \n",
       "2   NaN  17.0608 -61.7964           97928.0   \n",
       "3   NaN  18.1096 -77.2975         2961161.0   \n",
       "4   NaN  17.1899 -88.4976          397621.0   \n",
       "\n",
       "   People_Hospitalized_Cumulative_Count  \\\n",
       "0                                   NaN   \n",
       "1                                   NaN   \n",
       "2                                   NaN   \n",
       "3                                   NaN   \n",
       "4                                   NaN   \n",
       "\n",
       "                                         Data_Source     Prep_Flow_Runtime  \n",
       "0  2019 Novel Coronavirus COVID-19 (2019-nCoV) Da...  5/2/2020 11:35:41 PM  \n",
       "1  2019 Novel Coronavirus COVID-19 (2019-nCoV) Da...  5/2/2020 11:35:41 PM  \n",
       "2  2019 Novel Coronavirus COVID-19 (2019-nCoV) Da...  5/2/2020 11:35:41 PM  \n",
       "3  2019 Novel Coronavirus COVID-19 (2019-nCoV) Da...  5/2/2020 11:35:41 PM  \n",
       "4  2019 Novel Coronavirus COVID-19 (2019-nCoV) Da...  5/2/2020 11:35:41 PM  "
      ]
     },
     "execution_count": 6,
     "metadata": {},
     "output_type": "execute_result"
    }
   ],
   "source": [
    "df.head()"
   ]
  },
  {
   "cell_type": "code",
   "execution_count": 7,
   "metadata": {},
   "outputs": [
    {
     "data": {
      "text/plain": [
       "Index(['Case_Type', 'People_Total_Tested_Count', 'Cases', 'Difference', 'Date',\n",
       "       'Combined_Key', 'Country_Region', 'Province_State', 'Admin2', 'iso2',\n",
       "       'iso3', 'FIPS', 'Lat', 'Long', 'Population_Count',\n",
       "       'People_Hospitalized_Cumulative_Count', 'Data_Source',\n",
       "       'Prep_Flow_Runtime'],\n",
       "      dtype='object')"
      ]
     },
     "execution_count": 7,
     "metadata": {},
     "output_type": "execute_result"
    }
   ],
   "source": [
    "df.columns"
   ]
  },
  {
   "cell_type": "code",
   "execution_count": 8,
   "metadata": {},
   "outputs": [
    {
     "data": {
      "text/plain": [
       "(718080, 18)"
      ]
     },
     "execution_count": 8,
     "metadata": {},
     "output_type": "execute_result"
    }
   ],
   "source": [
    "df.shape"
   ]
  },
  {
   "cell_type": "code",
   "execution_count": 12,
   "metadata": {},
   "outputs": [],
   "source": [
    "df.rename(columns={'Province_State':'State','Country_Region':'Country'},inplace=True)"
   ]
  },
  {
   "cell_type": "code",
   "execution_count": 21,
   "metadata": {},
   "outputs": [],
   "source": [
    "covid=df[[\"Date\",\"State\",\"Country\",\"Case_Type\",\"Cases\"]]"
   ]
  },
  {
   "cell_type": "code",
   "execution_count": 22,
   "metadata": {},
   "outputs": [
    {
     "data": {
      "text/html": [
       "<div>\n",
       "<style scoped>\n",
       "    .dataframe tbody tr th:only-of-type {\n",
       "        vertical-align: middle;\n",
       "    }\n",
       "\n",
       "    .dataframe tbody tr th {\n",
       "        vertical-align: top;\n",
       "    }\n",
       "\n",
       "    .dataframe thead th {\n",
       "        text-align: right;\n",
       "    }\n",
       "</style>\n",
       "<table border=\"1\" class=\"dataframe\">\n",
       "  <thead>\n",
       "    <tr style=\"text-align: right;\">\n",
       "      <th></th>\n",
       "      <th>Date</th>\n",
       "      <th>State</th>\n",
       "      <th>Country</th>\n",
       "      <th>Case_Type</th>\n",
       "      <th>Cases</th>\n",
       "    </tr>\n",
       "  </thead>\n",
       "  <tbody>\n",
       "    <tr>\n",
       "      <th>6</th>\n",
       "      <td>5/2/2020</td>\n",
       "      <td>Bonaire, Sint Eustatius and Saba</td>\n",
       "      <td>Netherlands</td>\n",
       "      <td>Deaths</td>\n",
       "      <td>0</td>\n",
       "    </tr>\n",
       "    <tr>\n",
       "      <th>8</th>\n",
       "      <td>4/13/2020</td>\n",
       "      <td>Bermuda</td>\n",
       "      <td>United Kingdom</td>\n",
       "      <td>Deaths</td>\n",
       "      <td>5</td>\n",
       "    </tr>\n",
       "    <tr>\n",
       "      <th>9</th>\n",
       "      <td>4/29/2020</td>\n",
       "      <td>New Caledonia</td>\n",
       "      <td>France</td>\n",
       "      <td>Confirmed</td>\n",
       "      <td>18</td>\n",
       "    </tr>\n",
       "    <tr>\n",
       "      <th>11</th>\n",
       "      <td>4/9/2020</td>\n",
       "      <td>Manitoba</td>\n",
       "      <td>Canada</td>\n",
       "      <td>Deaths</td>\n",
       "      <td>3</td>\n",
       "    </tr>\n",
       "    <tr>\n",
       "      <th>12</th>\n",
       "      <td>2/19/2020</td>\n",
       "      <td>Tibet</td>\n",
       "      <td>China</td>\n",
       "      <td>Deaths</td>\n",
       "      <td>0</td>\n",
       "    </tr>\n",
       "    <tr>\n",
       "      <th>...</th>\n",
       "      <td>...</td>\n",
       "      <td>...</td>\n",
       "      <td>...</td>\n",
       "      <td>...</td>\n",
       "      <td>...</td>\n",
       "    </tr>\n",
       "    <tr>\n",
       "      <th>718075</th>\n",
       "      <td>1/22/2020</td>\n",
       "      <td>Georgia</td>\n",
       "      <td>US</td>\n",
       "      <td>Confirmed</td>\n",
       "      <td>0</td>\n",
       "    </tr>\n",
       "    <tr>\n",
       "      <th>718076</th>\n",
       "      <td>1/22/2020</td>\n",
       "      <td>Oklahoma</td>\n",
       "      <td>US</td>\n",
       "      <td>Deaths</td>\n",
       "      <td>0</td>\n",
       "    </tr>\n",
       "    <tr>\n",
       "      <th>718077</th>\n",
       "      <td>1/22/2020</td>\n",
       "      <td>Wisconsin</td>\n",
       "      <td>US</td>\n",
       "      <td>Deaths</td>\n",
       "      <td>0</td>\n",
       "    </tr>\n",
       "    <tr>\n",
       "      <th>718078</th>\n",
       "      <td>1/22/2020</td>\n",
       "      <td>Indiana</td>\n",
       "      <td>US</td>\n",
       "      <td>Confirmed</td>\n",
       "      <td>0</td>\n",
       "    </tr>\n",
       "    <tr>\n",
       "      <th>718079</th>\n",
       "      <td>1/22/2020</td>\n",
       "      <td>North Dakota</td>\n",
       "      <td>US</td>\n",
       "      <td>Confirmed</td>\n",
       "      <td>0</td>\n",
       "    </tr>\n",
       "  </tbody>\n",
       "</table>\n",
       "<p>680952 rows × 5 columns</p>\n",
       "</div>"
      ],
      "text/plain": [
       "             Date                             State         Country  \\\n",
       "6        5/2/2020  Bonaire, Sint Eustatius and Saba     Netherlands   \n",
       "8       4/13/2020                           Bermuda  United Kingdom   \n",
       "9       4/29/2020                     New Caledonia          France   \n",
       "11       4/9/2020                          Manitoba          Canada   \n",
       "12      2/19/2020                             Tibet           China   \n",
       "...           ...                               ...             ...   \n",
       "718075  1/22/2020                           Georgia              US   \n",
       "718076  1/22/2020                          Oklahoma              US   \n",
       "718077  1/22/2020                         Wisconsin              US   \n",
       "718078  1/22/2020                           Indiana              US   \n",
       "718079  1/22/2020                      North Dakota              US   \n",
       "\n",
       "        Case_Type  Cases  \n",
       "6          Deaths      0  \n",
       "8          Deaths      5  \n",
       "9       Confirmed     18  \n",
       "11         Deaths      3  \n",
       "12         Deaths      0  \n",
       "...           ...    ...  \n",
       "718075  Confirmed      0  \n",
       "718076     Deaths      0  \n",
       "718077     Deaths      0  \n",
       "718078  Confirmed      0  \n",
       "718079  Confirmed      0  \n",
       "\n",
       "[680952 rows x 5 columns]"
      ]
     },
     "execution_count": 22,
     "metadata": {},
     "output_type": "execute_result"
    }
   ],
   "source": [
    "covid.dropna()"
   ]
  },
  {
   "cell_type": "code",
   "execution_count": 25,
   "metadata": {},
   "outputs": [
    {
     "data": {
      "text/plain": [
       "Country\n",
       "Afghanistan           168.112745\n",
       "Albania                99.588235\n",
       "Algeria               456.897059\n",
       "Andorra               119.745098\n",
       "Angola                  3.843137\n",
       "                         ...    \n",
       "West Bank and Gaza     58.686275\n",
       "Western Sahara          0.754902\n",
       "Yemen                   0.264706\n",
       "Zambia                 11.000000\n",
       "Zimbabwe                4.156863\n",
       "Name: Cases, Length: 186, dtype: float64"
      ]
     },
     "execution_count": 25,
     "metadata": {},
     "output_type": "execute_result"
    }
   ],
   "source": [
    "\n",
    "covid.groupby('Country').Cases.mean()"
   ]
  },
  {
   "cell_type": "code",
   "execution_count": 29,
   "metadata": {},
   "outputs": [
    {
     "data": {
      "text/html": [
       "<div>\n",
       "<style scoped>\n",
       "    .dataframe tbody tr th:only-of-type {\n",
       "        vertical-align: middle;\n",
       "    }\n",
       "\n",
       "    .dataframe tbody tr th {\n",
       "        vertical-align: top;\n",
       "    }\n",
       "\n",
       "    .dataframe thead th {\n",
       "        text-align: right;\n",
       "    }\n",
       "</style>\n",
       "<table border=\"1\" class=\"dataframe\">\n",
       "  <thead>\n",
       "    <tr style=\"text-align: right;\">\n",
       "      <th></th>\n",
       "      <th>count</th>\n",
       "      <th>mean</th>\n",
       "      <th>std</th>\n",
       "      <th>min</th>\n",
       "      <th>25%</th>\n",
       "      <th>50%</th>\n",
       "      <th>75%</th>\n",
       "      <th>max</th>\n",
       "    </tr>\n",
       "    <tr>\n",
       "      <th>Case_Type</th>\n",
       "      <th></th>\n",
       "      <th></th>\n",
       "      <th></th>\n",
       "      <th></th>\n",
       "      <th></th>\n",
       "      <th></th>\n",
       "      <th></th>\n",
       "      <th></th>\n",
       "    </tr>\n",
       "  </thead>\n",
       "  <tbody>\n",
       "    <tr>\n",
       "      <th>Confirmed</th>\n",
       "      <td>359040.0</td>\n",
       "      <td>223.902376</td>\n",
       "      <td>3917.009576</td>\n",
       "      <td>0.0</td>\n",
       "      <td>0.0</td>\n",
       "      <td>0.0</td>\n",
       "      <td>4.0</td>\n",
       "      <td>216582.0</td>\n",
       "    </tr>\n",
       "    <tr>\n",
       "      <th>Deaths</th>\n",
       "      <td>359040.0</td>\n",
       "      <td>14.535935</td>\n",
       "      <td>408.006418</td>\n",
       "      <td>0.0</td>\n",
       "      <td>0.0</td>\n",
       "      <td>0.0</td>\n",
       "      <td>0.0</td>\n",
       "      <td>28710.0</td>\n",
       "    </tr>\n",
       "  </tbody>\n",
       "</table>\n",
       "</div>"
      ],
      "text/plain": [
       "              count        mean          std  min  25%  50%  75%       max\n",
       "Case_Type                                                                 \n",
       "Confirmed  359040.0  223.902376  3917.009576  0.0  0.0  0.0  4.0  216582.0\n",
       "Deaths     359040.0   14.535935   408.006418  0.0  0.0  0.0  0.0   28710.0"
      ]
     },
     "execution_count": 29,
     "metadata": {},
     "output_type": "execute_result"
    }
   ],
   "source": [
    "covid.groupby('Case_Type').Cases.describe()"
   ]
  },
  {
   "cell_type": "code",
   "execution_count": 33,
   "metadata": {},
   "outputs": [
    {
     "data": {
      "text/plain": [
       "Country\n",
       "Afghanistan           168.112745\n",
       "Albania                99.588235\n",
       "Algeria               456.897059\n",
       "Andorra               119.745098\n",
       "Angola                  3.843137\n",
       "                         ...    \n",
       "West Bank and Gaza     58.686275\n",
       "Western Sahara          0.754902\n",
       "Yemen                   0.264706\n",
       "Zambia                 11.000000\n",
       "Zimbabwe                4.156863\n",
       "Name: Cases, Length: 186, dtype: float64"
      ]
     },
     "execution_count": 33,
     "metadata": {},
     "output_type": "execute_result"
    }
   ],
   "source": [
    "covid.groupby('Country').Cases.mean()"
   ]
  },
  {
   "cell_type": "code",
   "execution_count": null,
   "metadata": {},
   "outputs": [],
   "source": [
    "#plotting the initial horaizontal barchart \n",
    "fig, ax = plt.subplots(figsize=(15, 8))\n",
    "ax.barh(covid['Country'], covid['Cases'])\n",
    "plt.xlabel('Number of Cases')\n",
    "plt.ylabel('Country')"
   ]
  },
  {
   "cell_type": "code",
   "execution_count": null,
   "metadata": {},
   "outputs": [],
   "source": [
    "covid"
   ]
  },
  {
   "cell_type": "code",
   "execution_count": null,
   "metadata": {},
   "outputs": [],
   "source": []
  }
 ],
 "metadata": {
  "kernelspec": {
   "display_name": "Python 3",
   "language": "python",
   "name": "python3"
  },
  "language_info": {
   "codemirror_mode": {
    "name": "ipython",
    "version": 3
   },
   "file_extension": ".py",
   "mimetype": "text/x-python",
   "name": "python",
   "nbconvert_exporter": "python",
   "pygments_lexer": "ipython3",
   "version": "3.7.6"
  }
 },
 "nbformat": 4,
 "nbformat_minor": 4
}
