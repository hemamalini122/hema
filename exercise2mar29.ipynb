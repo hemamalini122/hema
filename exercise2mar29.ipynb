{
 "cells": [
  {
   "cell_type": "markdown",
   "metadata": {},
   "source": [
    "###1. Write a Python program to find those numbers which are divisible by 7 and multiple of 5, between 1500 and 2700 (both included)"
   ]
  },
  {
   "cell_type": "code",
   "execution_count": 66,
   "metadata": {},
   "outputs": [
    {
     "name": "stdout",
     "output_type": "stream",
     "text": [
      "[1505, 1540, 1575, 1610, 1645, 1680, 1715, 1750, 1785, 1820, 1855, 1890, 1925, 1960, 1995, 2030, 2065, 2100, 2135, 2170, 2205, 2240, 2275, 2310, 2345, 2380, 2415, 2450, 2485, 2520, 2555, 2590, 2625, 2660, 2695]\n"
     ]
    }
   ],
   "source": [
    "q1=[]\n",
    "for i in range(1500,2700):\n",
    "    if (i%7==0):\n",
    "        if(i%5==0):\n",
    "            q1.append(i)\n",
    "            \n",
    "print(q1)  \n",
    "\n"
   ]
  },
  {
   "cell_type": "markdown",
   "metadata": {},
   "source": [
    "\n",
    "##2. Write a Python program to construct the following pattern, using a nested for loop."
   ]
  },
  {
   "cell_type": "code",
   "execution_count": 2,
   "metadata": {},
   "outputs": [
    {
     "name": "stdout",
     "output_type": "stream",
     "text": [
      "\n",
      "*\n",
      "**\n",
      "***\n",
      "****\n",
      "*****\n",
      "****\n",
      "***\n",
      "**\n",
      "*\n",
      "\n"
     ]
    }
   ],
   "source": [
    "for i in range(0,5):\n",
    "    print()\n",
    "    for j in range(0,i+1):\n",
    "        print (\"*\", end = \"\")\n",
    "\n",
    "for k in range(5,0,-1):\n",
    "#    print(k)\n",
    "    print()\n",
    "    for l in range(k-1,0,-1):\n",
    "#        print(l)\n",
    "        print (\"*\", end = \"\") \n",
    "print () "
   ]
  },
  {
   "cell_type": "markdown",
   "metadata": {},
   "source": [
    "##3. Write a Python program to count the number of even and odd numbers from a series of numbers"
   ]
  },
  {
   "cell_type": "code",
   "execution_count": 12,
   "metadata": {},
   "outputs": [
    {
     "name": "stdout",
     "output_type": "stream",
     "text": [
      "Count of numbers in the list are: 7\n",
      "The value of numbers are:  [30, 34, 35, 29, 50, 204, 79]\n",
      "The count of even numbers in the list is:  4\n",
      "The count of odd numbers in the list is:  3\n"
     ]
    }
   ],
   "source": [
    "lst3 = [30,34,35,29,50,204,79]\n",
    "print(\"Count of numbers in the list are:\", len(lst3))\n",
    "print(\"The value of numbers are: \", lst3)\n",
    "even = 0\n",
    "odd = 0\n",
    "for i in lst3:\n",
    "    if(i%2==0):\n",
    "        even+=1\n",
    "    else:\n",
    "        odd+=1\n",
    "\n",
    "print(\"The count of even numbers in the list is: \",even)  \n",
    "print(\"The count of odd numbers in the list is: \",odd)   \n",
    "\n",
    "     \n",
    "   "
   ]
  },
  {
   "cell_type": "markdown",
   "metadata": {},
   "source": [
    "##4. Write a Python program to find numbers between 100 and 400 (both included) where each digit of a number is an even number. The numbers obtained should be printed in a comma-separated sequence"
   ]
  },
  {
   "cell_type": "code",
   "execution_count": 38,
   "metadata": {},
   "outputs": [
    {
     "name": "stdout",
     "output_type": "stream",
     "text": [
      "200,202,204,206,208,220,222,224,226,228,240,242,244,246,248,260,262,264,266,268,280,282,284,286,288,400\n"
     ]
    }
   ],
   "source": [
    "lst4 = []\n",
    "for i in range(100,401,2):\n",
    "    i = str(i)\n",
    "    if int(i[0])%2 == 0 and int(i[1])%2 == 0 and int(i[2])%2==0:\n",
    "           \n",
    "            if (len(lst4) > 0):\n",
    "                lst4 = lst4 +','+i\n",
    "            else:\n",
    "                 lst4=str(i)\n",
    "print(lst4)\n",
    "\n"
   ]
  },
  {
   "cell_type": "markdown",
   "metadata": {},
   "source": [
    "##5. Write a Python program to calculate a dog's age in dog's years. Go to the editor... Note: For the first two years, a dog year is equal to 10.5 human years. After that, each dog year equals 4 human years"
   ]
  },
  {
   "cell_type": "code",
   "execution_count": 42,
   "metadata": {},
   "outputs": [
    {
     "name": "stdout",
     "output_type": "stream",
     "text": [
      "Input a dog's age in human years: 20\n",
      "The dog's age in dog's years is 93.0\n"
     ]
    }
   ],
   "source": [
    "dogage = int(input(\"Input a dog's age in human years: \"))\n",
    "humanyear=0\n",
    "\n",
    "for i in range(1,dogage):\n",
    "    if(i<=2):\n",
    "        humanyear+=10.5\n",
    "for i in range(3,dogage+1):\n",
    "    humanyear+=4\n",
    "print(\"The dog's age in dog's years is\", humanyear)\n",
    "\n",
    "\n"
   ]
  },
  {
   "cell_type": "markdown",
   "metadata": {},
   "source": [
    "##6. Write a Python function to find the Max of three numbers."
   ]
  },
  {
   "cell_type": "code",
   "execution_count": 45,
   "metadata": {},
   "outputs": [
    {
     "name": "stdout",
     "output_type": "stream",
     "text": [
      "Enter first number:3\n",
      "Enter second number:6\n",
      "Enter third number:-5\n",
      "The Three numbers are: 3 6 -5\n",
      "6\n"
     ]
    }
   ],
   "source": [
    "num1=int(input(\"Enter first number:\"))\n",
    "num2=int(input(\"Enter second number:\"))\n",
    "num3=int(input(\"Enter third number:\"))\n",
    "print(\"The Three numbers are:\",num1,num2,num3)\n",
    "print(max(num1,num2,num3))   \n"
   ]
  },
  {
   "cell_type": "markdown",
   "metadata": {},
   "source": [
    "##7. Write a Python function that takes a number as a parameter and check the number is prime or not"
   ]
  },
  {
   "cell_type": "code",
   "execution_count": 49,
   "metadata": {},
   "outputs": [
    {
     "name": "stdout",
     "output_type": "stream",
     "text": [
      "Enter a positive integer::9\n",
      "True\n"
     ]
    }
   ],
   "source": [
    "        \n",
    "q7=int(input(\"Enter a positive integer::\"))\n",
    "s = 0\n",
    "if q7 > 1:\n",
    "    for i in range(2,q7):\n",
    "        if (q7%i) == 0:\n",
    "            \n",
    "            s = s +1\n",
    "            print(\"True\")\n",
    "else:\n",
    "    print(\"False\")\n",
    "    \n"
   ]
  },
  {
   "cell_type": "markdown",
   "metadata": {},
   "source": [
    "##8. Write a Python function that accepts a string and calculate the number of upper case letters and lower case letters. Go to the editor"
   ]
  },
  {
   "cell_type": "code",
   "execution_count": 55,
   "metadata": {},
   "outputs": [
    {
     "name": "stdout",
     "output_type": "stream",
     "text": [
      "Type a statement:Inceptz is One of The BeSt Places TO LEarn DataSciEnce\n",
      "The number of uppercase characters in string is:  13\n",
      "The number of lowercase characters in string is:  32\n"
     ]
    }
   ],
   "source": [
    "q8 = str(input(\"Type a statement:\"))\n",
    "uppercase = 0\n",
    "lowercase = 0\n",
    "for i in q8:\n",
    "    if (i.isupper()):\n",
    "        uppercase+=1\n",
    "    elif(i.islower()):\n",
    "        lowercase+=1\n",
    "print(\"The number of uppercase characters in string is: \", uppercase)\n",
    "print(\"The number of lowercase characters in string is: \", lowercase)\n",
    "#Inceptz is One of The BeSt Places TO LEarn DataSciEnce        "
   ]
  },
  {
   "cell_type": "markdown",
   "metadata": {},
   "source": [
    "##9. Write a Python program to reverse a string."
   ]
  },
  {
   "cell_type": "code",
   "execution_count": 58,
   "metadata": {},
   "outputs": [
    {
     "name": "stdout",
     "output_type": "stream",
     "text": [
      "Enter the original string is:1234abcd\n",
      "Reversed string: dcba4321\n"
     ]
    }
   ],
   "source": [
    "q9 = input(\"Enter the original string is:\")\n",
    "print(\"Reversed string:\",q9[::-1])\n"
   ]
  },
  {
   "cell_type": "markdown",
   "metadata": {},
   "source": [
    "##10. Write a Python program to find the greatest common divisor (gcd) of two integers"
   ]
  },
  {
   "cell_type": "code",
   "execution_count": 65,
   "metadata": {},
   "outputs": [
    {
     "name": "stdout",
     "output_type": "stream",
     "text": [
      "Enter number1:12\n",
      "Enter number2:14\n",
      "The two numbers are: 12 14\n",
      "The GCD of the numbers are: 2\n"
     ]
    }
   ],
   "source": [
    "int1 = int(input(\"Enter number1:\"))\n",
    "int2 = int(input(\"Enter number2:\"))\n",
    "maximum = max(number1,number2)\n",
    "print(\"The two numbers are:\",int1,int2)\n",
    "i=1\n",
    "gcd=1\n",
    "while i <=maximum:\n",
    "    if ((int1%i == 0) and (int2%i == 0)):\n",
    "        gcd = i\n",
    "    i=i+1\n",
    "    \n",
    "print(\"The GCD of the numbers are:\",gcd)"
   ]
  },
  {
   "cell_type": "code",
   "execution_count": null,
   "metadata": {},
   "outputs": [],
   "source": []
  }
 ],
 "metadata": {
  "kernelspec": {
   "display_name": "Python 3",
   "language": "python",
   "name": "python3"
  },
  "language_info": {
   "codemirror_mode": {
    "name": "ipython",
    "version": 3
   },
   "file_extension": ".py",
   "mimetype": "text/x-python",
   "name": "python",
   "nbconvert_exporter": "python",
   "pygments_lexer": "ipython3",
   "version": "3.7.6"
  }
 },
 "nbformat": 4,
 "nbformat_minor": 4
}
