{
 "cells": [
  {
   "cell_type": "markdown",
   "metadata": {},
   "source": [
    "## Exercise 1: Write a function to sort the list based on the first letter of the second element"
   ]
  },
  {
   "cell_type": "code",
   "execution_count": 125,
   "metadata": {},
   "outputs": [],
   "source": [
    "lst_1=[(19542209, \"New York\") ,(4887871, \"Alabama\"), (1420491, \"Hawaii\"), (626299, \"Vermont\"), (1805832, \"West Virginia\"), (39865590, \"California\")]"
   ]
  },
  {
   "cell_type": "code",
   "execution_count": 130,
   "metadata": {},
   "outputs": [
    {
     "data": {
      "text/plain": [
       "[(4887871, 'Alabama'),\n",
       " (39865590, 'California'),\n",
       " (1420491, 'Hawaii'),\n",
       " (19542209, 'New York'),\n",
       " (626299, 'Vermont'),\n",
       " (1805832, 'West Virginia')]"
      ]
     },
     "execution_count": 130,
     "metadata": {},
     "output_type": "execute_result"
    }
   ],
   "source": [
    "lst_1\n"
   ]
  },
  {
   "cell_type": "code",
   "execution_count": 127,
   "metadata": {},
   "outputs": [],
   "source": [
    "lst_1.sort(key=lambda x:x[1])"
   ]
  },
  {
   "cell_type": "code",
   "execution_count": 139,
   "metadata": {},
   "outputs": [
    {
     "name": "stdout",
     "output_type": "stream",
     "text": [
      "4887871 Alabama\n",
      "39865590 California\n",
      "1420491 Hawaii\n",
      "19542209 New York\n",
      "626299 Vermont\n",
      "1805832 West Virginia\n"
     ]
    }
   ],
   "source": [
    "for code,country in lst_1:\n",
    "    print(code,country)"
   ]
  },
  {
   "cell_type": "markdown",
   "metadata": {},
   "source": [
    "## Exercise 2:  Write a function to sort the list based on the last letter of the second element"
   ]
  },
  {
   "cell_type": "code",
   "execution_count": 140,
   "metadata": {},
   "outputs": [
    {
     "name": "stdout",
     "output_type": "stream",
     "text": [
      "Original list [(19542209, 'New York'), (4887871, 'Alabama'), (1420491, 'Hawaii'), (626299, 'Vermont'), (1805832, 'West Virginia'), (39865590, 'California')]\n",
      "Sorted list  [(1805832, 'West Virginia'), (39865590, 'California'), (4887871, 'Alabama'), (1420491, 'Hawaii'), (19542209, 'New York'), (626299, 'Vermont')]\n"
     ]
    }
   ],
   "source": [
    "lst_2=[(19542209, \"New York\") ,(4887871, \"Alabama\"), (1420491, \"Hawaii\"), (626299, \"Vermont\"), (1805832, \"West Virginia\"), (39865590, \"California\")]\n",
    "print(\"Original list\",lst_2)\n",
    "\n",
    "def srt_lst1(lst1_1):  \n",
    "    lst1_1.sort(key = lambda x: x[1][::-1])  \n",
    "    return lst1_1 \n",
    "\n",
    "print(\"Sorted list \",srt_lst1(lst_2))\n"
   ]
  },
  {
   "cell_type": "code",
   "execution_count": 141,
   "metadata": {},
   "outputs": [
    {
     "data": {
      "text/plain": [
       "[(1805832, 'West Virginia'),\n",
       " (39865590, 'California'),\n",
       " (4887871, 'Alabama'),\n",
       " (1420491, 'Hawaii'),\n",
       " (19542209, 'New York'),\n",
       " (626299, 'Vermont')]"
      ]
     },
     "execution_count": 141,
     "metadata": {},
     "output_type": "execute_result"
    }
   ],
   "source": [
    "new_lst=list(map(lambda i: (i),srt_lst1(lst_2)))"
   ]
  },
  {
   "cell_type": "code",
   "execution_count": 145,
   "metadata": {},
   "outputs": [
    {
     "name": "stdout",
     "output_type": "stream",
     "text": [
      "4887871 Alabama\n",
      "39865590 California\n",
      "1805832 West Virginia\n",
      "1420491 Hawaii\n",
      "19542209 New York\n",
      "626299 Vermont\n"
     ]
    }
   ],
   "source": [
    "new_lst.sort(key=lambda x:x[1][-1:])\n",
    "for code,country in new_lst:\n",
    "    print(code,country)"
   ]
  },
  {
   "cell_type": "markdown",
   "metadata": {},
   "source": [
    "## Exercise 3: Create a range from 1 to 8 merge the given list and together to create a new list of tuples."
   ]
  },
  {
   "cell_type": "code",
   "execution_count": 9,
   "metadata": {},
   "outputs": [
    {
     "name": "stdout",
     "output_type": "stream",
     "text": [
      "[('Energy', 1), ('Agriculture', 2), ('Industry', 3), ('Technology', 4), ('Finance', 5), ('Forestry', 6), ('Transport', 7)]\n"
     ]
    }
   ],
   "source": [
    "D_3 = ['Energy','Agriculture','Industry','Technology','Finance','Forestry','Transport']\n",
    "index = [1,2,3,4,5,6,7]\n",
    "with_index = list(zip(D_3,index))\n",
    "print(with_index)\n"
   ]
  },
  {
   "cell_type": "code",
   "execution_count": 59,
   "metadata": {},
   "outputs": [
    {
     "data": {
      "text/plain": [
       "[('Energy', 1),\n",
       " ('Agriculture', 2),\n",
       " ('Industry', 3),\n",
       " ('Technology', 4),\n",
       " ('Finance', 5),\n",
       " ('Forestry', 6),\n",
       " ('Transport', 7)]"
      ]
     },
     "execution_count": 59,
     "metadata": {},
     "output_type": "execute_result"
    }
   ],
   "source": [
    "\n",
    "L_3 = ['Energy','Agriculture','Industry','Technology','Finance','Forestry','Transport']\n",
    "index = [1,2,3,4,5,6,7]\n",
    "\n",
    "list(map(lambda i,j: (i,j),L_3,index))"
   ]
  },
  {
   "cell_type": "markdown",
   "metadata": {},
   "source": [
    "## Exercise 4: Write a function and create a list consisted of the number of occurence of letter: a (all a's)"
   ]
  },
  {
   "cell_type": "code",
   "execution_count": 134,
   "metadata": {},
   "outputs": [
    {
     "name": "stdout",
     "output_type": "stream",
     "text": [
      "{'Antartica': 3, 'America': 2, 'Armania': 3, 'Australia': 3, 'Albania': 3, 'Afganistan': 3, 'Alaska': 3}\n"
     ]
    }
   ],
   "source": [
    "D_4 =[\"Antartica\", \"America\", \"Armania\", \"Australia\", \"Albania\", \"Afganistan\",\"Alaska\"]\n",
    "vowels = ['a','A']\n",
    "hal = [i for i in D_4 for k in i if k in vowels]\n",
    "\n",
    "\n",
    "count={}\n",
    "for x in hal:\n",
    "    if x in count.keys():\n",
    "        count[x]+=1\n",
    "    else:\n",
    "        count[x]=1\n",
    "print(count)\n",
    "\n",
    "\n",
    "\n"
   ]
  },
  {
   "cell_type": "markdown",
   "metadata": {},
   "source": [
    "## Exercise 5: Write a function filter all the vowels in a given string using filter"
   ]
  },
  {
   "cell_type": "code",
   "execution_count": 61,
   "metadata": {},
   "outputs": [
    {
     "data": {
      "text/plain": [
       "'Inceptz is one of the best institutes to read data science in chennai'"
      ]
     },
     "execution_count": 61,
     "metadata": {},
     "output_type": "execute_result"
    }
   ],
   "source": [
    "str1=\"Inceptz is one of the best institutes to read data science in chennai\"\n",
    "str1"
   ]
  },
  {
   "cell_type": "code",
   "execution_count": 63,
   "metadata": {},
   "outputs": [
    {
     "data": {
      "text/plain": [
       "['I',\n",
       " 'e',\n",
       " 'i',\n",
       " 'o',\n",
       " 'e',\n",
       " 'o',\n",
       " 'e',\n",
       " 'e',\n",
       " 'i',\n",
       " 'i',\n",
       " 'u',\n",
       " 'e',\n",
       " 'o',\n",
       " 'e',\n",
       " 'a',\n",
       " 'a',\n",
       " 'a',\n",
       " 'i',\n",
       " 'e',\n",
       " 'e',\n",
       " 'i',\n",
       " 'e',\n",
       " 'a',\n",
       " 'i']"
      ]
     },
     "execution_count": 63,
     "metadata": {},
     "output_type": "execute_result"
    }
   ],
   "source": [
    "vowels = ['a','e','i','o','u','A','E','I','O','U']\n",
    "fil = [i for i in str1 for k in i if k in vowels]\n",
    "fil"
   ]
  },
  {
   "cell_type": "markdown",
   "metadata": {},
   "source": [
    "## Exercise 6:  Write a function to create a list as the square of elements from the given list if the square is greater than 60\n"
   ]
  },
  {
   "cell_type": "code",
   "execution_count": 65,
   "metadata": {},
   "outputs": [
    {
     "data": {
      "text/plain": [
       "[25, 36, 49, 64, 81, 100, 144, 196]"
      ]
     },
     "execution_count": 65,
     "metadata": {},
     "output_type": "execute_result"
    }
   ],
   "source": [
    "lst6=[5, 6, 7 , 8, 9, 10, 12, 14]\n",
    "\n",
    "def square(x):\n",
    "    return x*x\n",
    "lst6_1= list(map(square,lst6))\n",
    "lst6_1"
   ]
  },
  {
   "cell_type": "code",
   "execution_count": 67,
   "metadata": {},
   "outputs": [
    {
     "data": {
      "text/plain": [
       "[64, 81, 100, 144, 196]"
      ]
     },
     "execution_count": 67,
     "metadata": {},
     "output_type": "execute_result"
    }
   ],
   "source": [
    "def grt_60(grt):\n",
    "    return grt > 60\n",
    "list(filter(grt_60,lst6_1))\n"
   ]
  },
  {
   "cell_type": "markdown",
   "metadata": {},
   "source": [
    "## Exercise 7: take the words given below as input and use reduce to make it a sentence"
   ]
  },
  {
   "cell_type": "markdown",
   "metadata": {},
   "source": [
    "Inceptz\n",
    "\n",
    "provides\n",
    "\n",
    "the\n",
    "\n",
    "best\n",
    "\n",
    "inclass\n",
    "\n",
    "trainings\n",
    "\n",
    "and\n",
    "\n",
    "is\n",
    "\n",
    "the\n",
    "\n",
    "best"
   ]
  },
  {
   "cell_type": "code",
   "execution_count": 136,
   "metadata": {},
   "outputs": [
    {
     "name": "stdout",
     "output_type": "stream",
     "text": [
      "Inceptz provides the best inclass trainings and is the best\n"
     ]
    }
   ],
   "source": [
    "from functools import reduce\n",
    "d_7=[\"Inceptz\",\"provides\",\"the\",\"best\",\"inclass\",\"trainings\",\"and\",\"is\",\"the\",\"best\"]\n",
    "\n",
    "def sum_int(i,j):\n",
    "    return i+' ' +j\n",
    "word_lst = reduce(sum_int,d_7)\n",
    "print(word_lst)\n"
   ]
  },
  {
   "cell_type": "code",
   "execution_count": null,
   "metadata": {},
   "outputs": [],
   "source": []
  }
 ],
 "metadata": {
  "kernelspec": {
   "display_name": "Python 3",
   "language": "python",
   "name": "python3"
  },
  "language_info": {
   "codemirror_mode": {
    "name": "ipython",
    "version": 3
   },
   "file_extension": ".py",
   "mimetype": "text/x-python",
   "name": "python",
   "nbconvert_exporter": "python",
   "pygments_lexer": "ipython3",
   "version": "3.7.6"
  }
 },
 "nbformat": 4,
 "nbformat_minor": 4
}
