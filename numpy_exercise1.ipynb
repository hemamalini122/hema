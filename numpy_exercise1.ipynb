{
 "cells": [
  {
   "cell_type": "markdown",
   "metadata": {},
   "source": [
    "Exercise 1: NumPy: Create an array with values ranging from 12 to 38"
   ]
  },
  {
   "cell_type": "code",
   "execution_count": 1,
   "metadata": {},
   "outputs": [],
   "source": [
    "import numpy as np"
   ]
  },
  {
   "cell_type": "code",
   "execution_count": 2,
   "metadata": {},
   "outputs": [],
   "source": [
    "array=np.arange(12,38)"
   ]
  },
  {
   "cell_type": "code",
   "execution_count": 3,
   "metadata": {},
   "outputs": [
    {
     "data": {
      "text/plain": [
       "array([12, 13, 14, 15, 16, 17, 18, 19, 20, 21, 22, 23, 24, 25, 26, 27, 28,\n",
       "       29, 30, 31, 32, 33, 34, 35, 36, 37])"
      ]
     },
     "execution_count": 3,
     "metadata": {},
     "output_type": "execute_result"
    }
   ],
   "source": [
    "array"
   ]
  },
  {
   "cell_type": "markdown",
   "metadata": {},
   "source": [
    "Exercise 2: Add a border around an existing array"
   ]
  },
  {
   "cell_type": "code",
   "execution_count": 12,
   "metadata": {},
   "outputs": [
    {
     "data": {
      "text/plain": [
       "array([[1., 1., 1.],\n",
       "       [1., 1., 1.],\n",
       "       [1., 1., 1.]])"
      ]
     },
     "execution_count": 12,
     "metadata": {},
     "output_type": "execute_result"
    }
   ],
   "source": [
    "arr2=np.ones((3,3))\n",
    "arr2"
   ]
  },
  {
   "cell_type": "code",
   "execution_count": 11,
   "metadata": {},
   "outputs": [
    {
     "name": "stdout",
     "output_type": "stream",
     "text": [
      "0 on the border and 1 inside in the array \n",
      " [[0. 0. 0. 0. 0.]\n",
      " [0. 1. 1. 1. 0.]\n",
      " [0. 1. 1. 1. 0.]\n",
      " [0. 1. 1. 1. 0.]\n",
      " [0. 0. 0. 0. 0.]]\n"
     ]
    }
   ],
   "source": [
    "arr2_2 = np.pad(arr2,pad_width=1,mode='constant')\n",
    "print(\"0 on the border and 1 inside in the array\",\"\\n\",arr2_2)\n"
   ]
  },
  {
   "cell_type": "markdown",
   "metadata": {},
   "source": [
    "Exercise 3: Convert a list and tuple into arrays"
   ]
  },
  {
   "cell_type": "code",
   "execution_count": 11,
   "metadata": {},
   "outputs": [
    {
     "name": "stdout",
     "output_type": "stream",
     "text": [
      "List to array:\n",
      " [1 2 3 4 5 6 7 8]\n",
      "Tuple to array\n",
      " [[8 4 6]\n",
      " [1 2 3]]\n"
     ]
    }
   ],
   "source": [
    "lst3 = [1,2,3,4,5,6,7,8]\n",
    "print(\"List to array:\\n\",np.asarray(lst3))\n",
    "\n",
    "\n",
    "tuple = (8,4,6,1,2,3)\n",
    "\n",
    "tarr = print(\"Tuple to array\\n\",np.asarray(tuple).reshape(2,3))\n",
    "tarr\n"
   ]
  },
  {
   "cell_type": "markdown",
   "metadata": {},
   "source": [
    "Exercise 4: Convert the values of Centigrade degrees into Fahrenheit degrees"
   ]
  },
  {
   "cell_type": "code",
   "execution_count": 17,
   "metadata": {},
   "outputs": [
    {
     "name": "stdout",
     "output_type": "stream",
     "text": [
      "Values in Fahrenheit degrees:\n",
      " [ 0.   12.   45.21 34.   99.91]\n",
      "Values in  Centigrade degrees:\n",
      " [-17.77777778 -11.11111111   7.33888889   1.11111111  37.72777778]\n"
     ]
    }
   ],
   "source": [
    "f_t4 = np.array([ 0.,   12.,   45.21, 34.,   99.91])\n",
    "print(\"Values in Fahrenheit degrees:\\n\",f_t4)\n",
    "c_t4 = np.array((f_t4 - 32)*(5/9))\n",
    "print(\"Values in  Centigrade degrees:\\n\",c_t4)\n",
    "\n",
    "# c_t4 = np.array((f_t4 - 32)*1.8)\n"
   ]
  },
  {
   "cell_type": "markdown",
   "metadata": {},
   "source": [
    "Exercise 5: Write a NumPy program to find the number of elements of an array, length of one array element in bytes and total bytes consumed by the elements."
   ]
  },
  {
   "cell_type": "code",
   "execution_count": 18,
   "metadata": {},
   "outputs": [
    {
     "name": "stdout",
     "output_type": "stream",
     "text": [
      "Size of the array:  3\n",
      "Length of one array element in bytes:  8\n",
      "Total bytes consumed by the elements of the array:  24\n"
     ]
    }
   ],
   "source": [
    "d_5 = np.array([1,2,3],dtype ='float')\n",
    "print(\"Size of the array: \", d_5.size)\n",
    "print(\"Length of one array element in bytes: \", d_5.itemsize)\n",
    "print(\"Total bytes consumed by the elements of the array: \",d_5.nbytes)\n",
    "\n",
    "\n",
    "\n",
    "# Size of the array:  3\n",
    "# Length of one array element in bytes:  8\n",
    "# Total bytes consumed by the elements of the array:  24"
   ]
  },
  {
   "cell_type": "markdown",
   "metadata": {},
   "source": [
    "Exercise 6: Get the unique elements of an array"
   ]
  },
  {
   "cell_type": "code",
   "execution_count": 26,
   "metadata": {},
   "outputs": [
    {
     "name": "stdout",
     "output_type": "stream",
     "text": [
      "Original array:\n",
      " [10 10 20 20 30 30]\n",
      "Unique elements of the above array:\n",
      " [10 20 30]\n",
      "Original array:\n",
      " [[1 1]\n",
      " [2 3]]\n",
      "Unique elements of the above array:\n",
      " [1 2 3]\n"
     ]
    }
   ],
   "source": [
    "d_6 = np.array([10, 10, 20, 20, 30, 30])\n",
    "print(\"Original array:\\n\",d_6)\n",
    "print(\"Unique elements of the above array:\\n\",np.unique(d_6))\n",
    "# d_6_1 = np.array([[1, 1], [2, 3]])\n",
    "\n",
    "d_6_1 = [1, 1, 2, 3]\n",
    "print(\"Original array:\\n\",np.asarray(d_6_1).reshape(2, 2))\n",
    "print(\"Unique elements of the above array:\\n\",np.unique(d_6_1))\n",
    "\n",
    "\n"
   ]
  },
  {
   "cell_type": "markdown",
   "metadata": {},
   "source": [
    "Exercise 7: Change the dimension of an array"
   ]
  },
  {
   "cell_type": "code",
   "execution_count": 30,
   "metadata": {},
   "outputs": [
    {
     "name": "stdout",
     "output_type": "stream",
     "text": [
      "Original array: [1 2 3 4 5 6 7 8 9]\n",
      "Change array shape to (3, 3) -> 3 rows and 3 columns\n",
      " [[1 2 3]\n",
      " [4 5 6]\n",
      " [7 8 9]]\n"
     ]
    }
   ],
   "source": [
    "# Original array: [1 2 3 4 5 6 7 8 9]\n",
    "d_7=np.arange(1,10)\n",
    "print(\"Original array:\",d_7)\n",
    "print(\"Change array shape to (3, 3) -> 3 rows and 3 columns\\n\",d_7.reshape(3,3))"
   ]
  },
  {
   "cell_type": "markdown",
   "metadata": {},
   "source": [
    "Exercise 8: Create a 1-D array of 30 evenly spaced elements between 2.5. and 6.5, inclusive"
   ]
  },
  {
   "cell_type": "code",
   "execution_count": 33,
   "metadata": {},
   "outputs": [
    {
     "name": "stdout",
     "output_type": "stream",
     "text": [
      "[2.5        2.63793103 2.77586207 2.9137931  3.05172414 3.18965517\n",
      " 3.32758621 3.46551724 3.60344828 3.74137931 3.87931034 4.01724138\n",
      " 4.15517241 4.29310345 4.43103448 4.56896552 4.70689655 4.84482759\n",
      " 4.98275862 5.12068966 5.25862069 5.39655172 5.53448276 5.67241379\n",
      " 5.81034483 5.94827586 6.0862069  6.22413793 6.36206897 6.5       ]\n"
     ]
    }
   ],
   "source": [
    "D_8=np.linspace(2.5,6.5,30)\n",
    "print(D_8)"
   ]
  },
  {
   "cell_type": "markdown",
   "metadata": {},
   "source": [
    "Exercise 9: Convert 1-D arrays as columns into a 2-D array"
   ]
  },
  {
   "cell_type": "code",
   "execution_count": 45,
   "metadata": {},
   "outputs": [
    {
     "name": "stdout",
     "output_type": "stream",
     "text": [
      "Array1 [10 20 30]\n",
      "Array2 [40 50 60]\n",
      "Converted array\n",
      " [[10 40]\n",
      " [20 50]\n",
      " [30 60]]\n"
     ]
    }
   ],
   "source": [
    "Array1=np.array([10, 20, 30])\n",
    "Array2=np.array([40, 50, 60])\n",
    "print(\"Array1\",Array1)\n",
    "print(\"Array2\",Array2)\n",
    "c_a=np.stack((Array1,Array2),axis=1)\n",
    "print(\"Converted array\\n\",c_a)"
   ]
  },
  {
   "cell_type": "markdown",
   "metadata": {},
   "source": [
    "Exercise 10: Create a 5x5 matrix with row values ranging from 0 to 4"
   ]
  },
  {
   "cell_type": "code",
   "execution_count": 52,
   "metadata": {},
   "outputs": [
    {
     "name": "stdout",
     "output_type": "stream",
     "text": [
      "Original array:\n",
      " [[0. 0. 0. 0. 0.]\n",
      " [0. 0. 0. 0. 0.]\n",
      " [0. 0. 0. 0. 0.]\n",
      " [0. 0. 0. 0. 0.]\n",
      " [0. 0. 0. 0. 0.]]\n",
      "Row values ranging from 0 to 4.\n",
      " [[0. 1. 2. 3. 4.]\n",
      " [0. 1. 2. 3. 4.]\n",
      " [0. 1. 2. 3. 4.]\n",
      " [0. 1. 2. 3. 4.]\n",
      " [0. 1. 2. 3. 4.]]\n"
     ]
    }
   ],
   "source": [
    "d_10 = np.zeros((5,5))\n",
    "print(\"Original array:\\n\",d_10)\n",
    "d_10_1=np.arange(5) + d_10\n",
    "print(\"Row values ranging from 0 to 4.\\n\",d_10_1)\n"
   ]
  },
  {
   "cell_type": "markdown",
   "metadata": {},
   "source": [
    "Exercise 11: Sum of all the multiples of 3 or 5 below 100"
   ]
  },
  {
   "cell_type": "code",
   "execution_count": 65,
   "metadata": {},
   "outputs": [
    {
     "name": "stdout",
     "output_type": "stream",
     "text": [
      "[ 3  5  6  9 10 12 15 18 20 21 24 25 27 30 33 35 36 39 40 42 45 48 50 51\n",
      " 54 55 57 60 63 65 66 69 70 72 75 78 80 81 84 85 87 90 93 95 96 99]\n",
      "2318\n"
     ]
    }
   ],
   "source": [
    "d_11=np.arange(1,100)\n",
    "d_11_1 = d_11[(d_11%3==0) | (d_11%5==0)]\n",
    "print(d_11_1)\n",
    "print(d_11_1.sum())\n"
   ]
  },
  {
   "cell_type": "markdown",
   "metadata": {},
   "source": [
    "Exercise 12: Combine a one and a two dimensional array together and display their elements"
   ]
  },
  {
   "cell_type": "code",
   "execution_count": 81,
   "metadata": {},
   "outputs": [
    {
     "name": "stdout",
     "output_type": "stream",
     "text": [
      "One dimensional array:\n",
      " [0 1 2 3]\n",
      "Two dimensional array:\n",
      " [[0 1 2 3]\n",
      " [4 5 6 7]]\n",
      "0:0\n",
      "1:1\n",
      "2:2\n",
      "3:3\n",
      "0:4\n",
      "1:5\n",
      "2:6\n",
      "3:7\n"
     ]
    }
   ],
   "source": [
    "x = np.array([0, 1, 2, 3])\n",
    "y = np.array(([0, 1, 2, 3],[4, 5, 6, 7]))\n",
    "print(\"One dimensional array:\\n\",x)\n",
    "print(\"Two dimensional array:\\n\",y)\n",
    "for a, b in np.nditer([x,y]):\n",
    "    print(str(a)+\":\"+str(b))\n",
    "#     print((a)+\":\"+(b))\n",
    "\n"
   ]
  },
  {
   "cell_type": "markdown",
   "metadata": {},
   "source": [
    "Exercise 13: Write a NumPy program to replace all elements of NumPy array that are greater than specified array."
   ]
  },
  {
   "cell_type": "code",
   "execution_count": 88,
   "metadata": {},
   "outputs": [
    {
     "name": "stdout",
     "output_type": "stream",
     "text": [
      "Original array:\n",
      " [[0.42436315 0.48558583 0.32924763]\n",
      " [0.7439979  0.58220701 0.38213418]\n",
      " [0.5097581  0.34528799 0.1563123 ]]\n",
      "Replace all elements of the said array with 0.5 which are greater than 0.5\n",
      " [[0.42436315 0.48558583 0.32924763]\n",
      " [0.5        0.5        0.38213418]\n",
      " [0.5        0.34528799 0.1563123 ]]\n"
     ]
    }
   ],
   "source": [
    "d_13=np.array(([0.42436315, 0.48558583, 0.32924763], [0.7439979,  0.58220701, 0.38213418], [0.5097581,  0.34528799,0.1563123 ]))\n",
    "print(\"Original array:\\n\",d_13)\n",
    "\n",
    "d_13[d_13 > 0.5 ] = 0.5\n",
    "print(\"Replace all elements of the said array with 0.5 which are greater than 0.5\\n\",d_13)"
   ]
  },
  {
   "cell_type": "markdown",
   "metadata": {},
   "source": [
    "Exercise 14: Add a new row to an empty numpy array"
   ]
  },
  {
   "cell_type": "code",
   "execution_count": 96,
   "metadata": {},
   "outputs": [
    {
     "name": "stdout",
     "output_type": "stream",
     "text": [
      "Empty array:\n",
      " []\n",
      "After adding two new arrays:\n",
      " [[10. 20. 30.]\n",
      " [40. 50. 60.]]\n"
     ]
    }
   ],
   "source": [
    "d_14=[]\n",
    "print(\"Empty array:\\n\",d_14)\n",
    "d_14 = np.append(d_14,np.array([10,20,30]),axis=0)\n",
    "d_14 = np.vstack((d_14, [40,50,60]))\n",
    "print(\"After adding two new arrays:\\n\",d_14)\n"
   ]
  },
  {
   "cell_type": "markdown",
   "metadata": {},
   "source": [
    "Exercise 15: Write a NumPy program to join a sequence of arrays along a new axis."
   ]
  },
  {
   "cell_type": "code",
   "execution_count": 105,
   "metadata": {},
   "outputs": [
    {
     "name": "stdout",
     "output_type": "stream",
     "text": [
      "Original arrays: \n",
      " [1 2 3] \n",
      " [2 3 4]\n",
      "Sequence of arrays along a new axis:\n",
      " [[1 2 3]\n",
      " [2 3 4]]\n",
      "Original arrays:\n",
      " [[1]\n",
      " [2]\n",
      " [3]] \n",
      " \n",
      " [[2]\n",
      " [3]\n",
      " [4]]\n",
      "Sequence of arrays along a new axis:\n",
      " [[1]\n",
      " [2]\n",
      " [3]\n",
      " [2]\n",
      " [3]\n",
      " [4]]\n"
     ]
    }
   ],
   "source": [
    "d_15_1 = np.array([1, 2, 3])\n",
    "d_15_2 = np.array([2, 3, 4])\n",
    "print(\"Original arrays: \\n\",d_15_1,\"\\n\",d_15_2)\n",
    "print(\"Sequence of arrays along a new axis:\\n\",np.vstack((d_15_1,d_15_2)))\n",
    "\n",
    "d_15_3 = np.array([[1], [2], [3]])\n",
    "d_15_4 = np.array([[2], [3], [4]])\n",
    "print(\"Original arrays:\\n\",d_15_3,\"\\n\",\"\\n\",d_15_4)\n",
    "\n",
    "\n",
    "print(\"Sequence of arrays along a new axis:\\n\",np.vstack((d_15_3,d_15_4)))\n"
   ]
  },
  {
   "cell_type": "code",
   "execution_count": null,
   "metadata": {},
   "outputs": [],
   "source": []
  }
 ],
 "metadata": {
  "kernelspec": {
   "display_name": "Python 3",
   "language": "python",
   "name": "python3"
  },
  "language_info": {
   "codemirror_mode": {
    "name": "ipython",
    "version": 3
   },
   "file_extension": ".py",
   "mimetype": "text/x-python",
   "name": "python",
   "nbconvert_exporter": "python",
   "pygments_lexer": "ipython3",
   "version": "3.7.6"
  }
 },
 "nbformat": 4,
 "nbformat_minor": 4
}
